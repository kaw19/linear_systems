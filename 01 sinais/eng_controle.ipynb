{
 "cells": [
  {
   "cell_type": "markdown",
   "metadata": {},
   "source": [
    "# Engenharia de Controle\n",
    "Traduzido por Prof. Cláudio A. Fleury - Dez/2020\n",
    "\n",
    "## Introdução\n",
    "\n",
    "**Engenharia de Sistemas de Controle** (ou de Controle de Sistemas) é o ramo da engenharia que lida com os princípios da teoria de controle, para projetar um sistema que dê o comportamento desejado de forma controlada. \n",
    "\n",
    "Os engenheiros de sistemas de controle analisam, projetam e otimizam sistemas complexos que consistem em uma coordenação altamente integrada de elementos mecânicos, elétricos, químicos, metalúrgicos, eletrônicos ou pneumáticos. Assim, a Engenharia de Controle lida com uma ampla gama de sistemas dinâmicos que ainda incluem interface humana e tecnológica. Esses sistemas são amplamente chamados de **Sistemas de Controle**.\n",
    "\n",
    "sist_controle.png\n",
    "\n",
    "Quando vários elementos são combinados para formar um sistema para produzir uma **saída desejada**, dizemos que se trata de um **sistema de controle**. Como este sistema controla a saída, ele tem como referência a sua própria saída. Cada elemento conectado ao sistema de controle tem efeito sobre a saída."
   ]
  },
  {
   "cell_type": "markdown",
   "metadata": {},
   "source": [
    "## Definição de Sistema de Controle\n",
    "\n",
    "Um sistema de controle é um conjunto de dispositivos que gerencia, comanda, dirige ou regula o comportamento de outros dispositivos ou sistemas para atingir os resultados desejados, ou seja, um sistema que controla outros sistemas. Como a civilização humana está se modernizando dia a dia, a demanda por automação está aumentando proporcionalmente, e a automação exige o controle dos dispositivos.\n",
    "\n",
    "Nos últimos anos, os sistemas de controle desempenharam um papel central no desenvolvimento e no avanço da tecnologia e da civilização moderna. Praticamente todos os aspectos de nossa vida cotidiana são menos ou mais afetados por algum sistema de controle. Uma banheira com controle de temperatura da água, uma geladeira, um ar condicionado, um ferro de passar roupas automático, um automóvel, todos são sistemas de controle. Os sistemas de controle também são usados em processos industriais para otimizar a produção. Encontramos sistemas de controle no controle de qualidade de produtos, sistemas de transporte, sistemas de energia, tecnologia espacial, robótica e muito mais. **Os princípios da teoria de controle** são aplicáveis tanto no campo da engenharia quanto em outras áreas do conhecimento. "
   ]
  },
  {
   "cell_type": "markdown",
   "metadata": {},
   "source": [
    "## Características de um Sistema de Controle\n",
    "\n",
    "A principal característica de um sistema de controle é que deve haver uma **relação matemática** clara **entre a entrada e a saída do sistema**. Quando a relação entre a entrada e a saída do sistema pode ser representada por uma proporcionalidade linear, o sistema é denominado Sistema de Controle Linear. Novamente, quando a relação entre a entrada e a saída não pode ser representada por proporcionalidade linear única, em vez disso, a entrada e a saída estão relacionadas por alguma relação não linear, o sistema é referido como um Sistema de Controle não Linear.\n",
    "\n",
    "## Requisitos de um bom Sistema de Controle\n",
    "\n",
    "<ul><li><b>Precisão</b>: a precisão é a tolerância de medição do instrumento e define os limites dos erros cometidos quando o instrumento é usado em condições normais de operação. A precisão pode ser melhorada usando a técnica de realimentação (<i>feedback</i>). Para aumentar a precisão de um sistema de controle usa-se um detector de erros.</li>\n",
    "\n",
    "<li><b>Sensibilidade</b>: os parâmetros de um sistema de controle estão sempre variando com a mudança nas condições ambientais, distúrbios internos ou quaisquer outros parâmetros. Essa mudança pode ser expressa em termos de sensibilidade. Qualquer sistema de controle deve ser insensível a tais mudanças, e de preferência, sensível apenas aos sinais de entrada.</li>\n",
    "\n",
    "<li><b>Ruído</b>: um sinal de entrada indesejado é conhecido como ruído. Um bom sistema de controle deve ser capaz de reduzir o efeito do ruído para um melhor desempenho.</li>\n",
    "\n",
    "<li><b>Estabilidade</b>: um sistema de controle é dito ser estável se para um sinal de entrada limitado, a saída é limitada e, se a entrada for zero, a saída é nula.</li>\n",
    "\n",
    "<li><b>Largura de Banda</b>: a faixa de freqüência operacional do sistema de controle estabelece a sua largura de banda. A largura de banda deve ser a maior possível da **resposta em frequência** de um bom sistema de controle.</li>\n",
    "\n",
    "<li><b>Velocidade</b>: é o tempo que o sistema de controle leva para atingir sua saída estável. Um bom sistema de controle possui alta velocidade. O período transitório para tal sistema deve ser muito pequeno.</li>\n",
    "\n",
    "<li><b>Oscilação</b>: Um pequeno número de oscilações da saída tendem a indicar que o sistema é estável.</li></ul>"
   ]
  },
  {
   "cell_type": "markdown",
   "metadata": {},
   "source": [
    "## Tipos de Sistema de Controle\n",
    "\n",
    "Existem vários tipos de sistemas de controle, mas todos eles são criados para controlar suas saídas. Exemplos de sistemas de controle: sistema usado para controlar a posição, a velocidade, a aceleração, a temperatura, a pressão, a tensão, a corrente etc.\n",
    "\n",
    "Tomemos um exemplo do controlador de temperatura simples de uma sala, para esclarecer o conceito. Suponha que haja um elemento de aquecimento simples, que é aquecido enquanto a fonte de alimentação elétrica estiver ligada. Enquanto o interruptor de alimentação do aquecedor estiver ligado, a temperatura da sala aumenta e após atingir a temperatura desejada do ambiente, a alimentação é desligada. Quando a temperatura ambiente cai o elemento de aquecimento é ligado manualmente para atingir a temperatura ambiente desejada novamente. Desta forma, pode-se controlar manualmente a temperatura ambiente no nível desejado. Este é um exemplo de sistema de controle manual.\n",
    "\n",
    "Este sistema pode ainda ser melhorado usando um interruptor temporizado da fonte de alimentação, onde a fonte para o elemento de aquecimento é ligada e desligada em um intervalo predeterminado para atingir o nível de temperatura desejado da sala. Existe outra forma melhorada de controlar a temperatura da sala. Nesse caso, um sensor mede a diferença entre a temperatura real e a temperatura desejada. Se houver alguma diferença entre eles, o elemento de aquecimento é acionado para reduzir a diferença e quando a diferença fica abaixo de um nível pré-determinado, o elemento de aquecimento é desligado.\n",
    "\n",
    "Ambas as formas do sistema, com temporizador e com sensor, são sistemas de controle automático. No primeiro, a entrada do sistema é totalmente independente da saída do sistema. A temperatura da sala (saída) aumenta enquanto o interruptor da fonte de alimentação é mantido ligado. Isso significa que o elemento de aquecimento produz calor, desde que a fonte de alimentação seja mantida ligada e a temperatura ambiente final não tem nenhum controle sobre a fonte de alimentação de entrada do sistema. Este sistema é conhecido como **Sistema de Controle de Malha Aberta**.\n",
    "\n",
    "Mas, no último caso, o elemento de aquecimento do sistema funciona dependendo da diferença entre a temperatura real e a temperatura desejada. Essa diferença é chamada de **Erro do Sistema**. Este sinal de erro é realimentado no sistema para controlar a saída de acordo com a entrada (referência). Como o caminho da entrada até à saída e o caminho de realimentação (*feedback*) de erro criam um circuito fechado, esse tipo de sistema de controle é conhecido como **Sistema de Controle de Malha Fechada**.\n",
    "\n",
    "<img src=\"img/eng_controle.png\" height=400 width=650>\n",
    "\n",
    "Portanto, existem dois tipos principais de **Sistema de Controle**:\n",
    "</ul><li><b>Sistema de Controle de Malha Aberta</b></li>\n",
    "<li><b>Sistema de controle de Malha Fechada</b></li></ul>"
   ]
  },
  {
   "cell_type": "markdown",
   "metadata": {},
   "source": [
    "## Sistema de Controle de Malha Aberta\n",
    "\n",
    "Um sistema de controle no qual a ação de controle é totalmente independente da saída do sistema é chamado de **Sistema de Controle de Malha Aberta**. Um sistema de controle manual também é um sistema de controle de malha aberta. A figura abaixo mostra um diagrama de blocos do sistema de controle de um sistema de controle de malha aberta no qual a saída do processo é totalmente independente da ação do controlador.\n",
    "\n",
    "<img src=\"img/malha_aberta.png\" height=400 width=650>\n",
    "\n",
    "## Exemplos práticos de Sistema de Controle de Malha Aberta\n",
    "\n",
    "<ol>\n",
    "    <li>Secadora de Mãos Elétrica - O ar quente (saída) sai contanto que você mantenha sua mão sob a máquina, independente de quanto as mãos estejam secas ou não.</li>\n",
    "<li>Máquina de Lavar Louças Automática - Esta máquina funciona de acordo com o tempo pré-estabelecido independentemente da lavagem estar concluída ou não.</li>\n",
    "<li>Torradeira de Pão - Esta máquina funciona de acordo com o tempo ajustado, independentemente da torragem estar concluída ou não.</li>\n",
    "<li>Cafeteira/Chá Automática - Essas máquinas também funcionam apenas para o tempo pré-ajustado.</li>\n",
    "<li>Secadora de Roupas Temporizada - Esta máquina seca roupas úmidas por tempo pré-ajustado, não importa o quanto as roupas estão secas.</li>\n",
    "<li>Interruptor de Luz - as lâmpadas acendem sempre que o interruptor de luz está ligado, independentemente da luz ser necessária ou não.</li>\n",
    "<li>Volume do Sistema Som - O volume é ajustado manualmente, e permanece no nível ajustado, independentemente do nível de volume de saída estar adequado ao ambiente ou não (volume do ruído).</li>"
   ]
  },
  {
   "cell_type": "markdown",
   "metadata": {},
   "source": [
    "## Vantagens e Desvantagens do Sistema de Controle de Malha Aberta\n",
    "\n",
    "### Vantagens\n",
    "<ul>\n",
    "    <li>Simples em construção e design.</li>\n",
    "<li>Econômico.</li>\n",
    "<li>De fácil manutenção.</li>\n",
    "<li>Geralmente estável.</li>\n",
    "<li>Conveniente de usar, quando a saída é difícil de medir.</li>\n",
    "</ul>\n",
    "\n",
    "### Desvantagens\n",
    "<li>Eles são imprecisos.</li>\n",
    "<li>Eles não são confortáveis.</li>\n",
    "<li>Qualquer alteração na saída não pode ser corrigida automaticamente.</li>\n",
    "\n",
    "## Sistema de Controle de Malha Fechada\n",
    "\n",
    "O sistema de controle no qual a saída tem efeito sobre a quantidade de entrada de tal maneira que a quantidade de entrada se ajusta com base na saída gerada é chamado de **Sistema de Controle de Malha Fechada**. O sistema de controle de malha aberta pode ser convertido em sistema de controle de malha fechada, acrescentando-se uma realimentação (*feedback*). Este *feedback* faz automaticamente as mudanças adequadas na saída em resposta aos distúrbios externos. Desta forma, o sistema de controle de malha fechada é chamado de **Sistema de Controle Automático**. A figura abaixo mostra o diagrama de blocos do sistema de controle de malha fechada no qual o *feedback* é obtido da saída e alimentado na entrada.\n",
    "\n",
    "<img src=\"img/malha_fechada.png\" height=400 width=650>"
   ]
  },
  {
   "cell_type": "markdown",
   "metadata": {},
   "source": [
    "## Exemplos práticos de Sistema de Controle de Malha Fechada\n",
    "\n",
    "<ol>\n",
    "    <li>Ferro Elétrico Automático - os elementos de aquecimento são controlados pela temperatura de saída do ferro.</li>\n",
    "<li>Estabilizador de Tensão - o controlador de tensão opera dependendo da tensão de saída do sistema. </li>\n",
    "    <li>Nível Caixa d'Água - a água de entrada é controlada pelo nível de água do reservatório.</li>\n",
    "<li>Míssil Rastreado por Radar - A direção do míssil é controlada comparando o alvo e a posição do míssil.</li>\n",
    "<li>Condicionador de Ar / Refrigerador - as funções de um condicionador de ar/refrigerador dependem da temperatura da sala/câmera fria.</li>\n",
    "<li>Sistema de Resfriamento no Carro - Funciona em função da temperatura interna desejada. </li></ol> \n",
    "\n",
    "## Vantagens e Desvantagens do Sistema de Controle de Malha Fechada\n",
    "\n",
    "### Vantagens\n",
    "<ul>\n",
    "    <li>Os sistemas de controle de malha fechada são mais precisos mesmo na presença de não linearidades.</li>\n",
    "    <li>Altamente preciso, pois qualquer erro que surge é corrigido devido à presença do sinal de feedback.</li>\n",
    "    <li>A faixa de largura de banda é grande.</li>\n",
    "    <li>Facilita a automação.</li>\n",
    "    <li>A sensibilidade do sistema pode ser reduzida para torná-lo mais estável.</li>\n",
    "    <li>Este sistema é menos afetado por ruído.</li> \n",
    "</ul>\n",
    "\n",
    "### Desvantagens\n",
    "<ul>\n",
    "    <li>Eles são mais caros.</li>\n",
    "    <li>Eles são mais complicados de projetar.</li>\n",
    "    <li>Requer mais manutenção.</li>\n",
    "    <li>O <i>feedback</i> leva a resposta oscilatória.</li>\n",
    "    <li>O ganho geral é reduzido devido à presença de <i>feedback</i>.</li>\n",
    "    <li>A estabilidade é o maior problema, e mais cuidado é necessário para projetar um sistema de malha fechada estável.</li>\n",
    "</ul>\n"
   ]
  },
  {
   "cell_type": "markdown",
   "metadata": {},
   "source": [
    "## Comparação entre  Sistemas de Controle de Malha Aberta e Malha Fechada\n",
    "\n",
    "\n",
    " Item   | Sistema de controle de Malha Aberta | Sistema de Controle de Malha Fechada\n",
    "--------|-------------------------------------|--------------------------------------\n",
    "1       | O elemento de feedback está ausente | O elemento de feedback está sempre presente\n",
    "2       | Não tem detector de erros           | Um detector de erros está sempre presente\n",
    "3       | É estável                           | Ele pode se tornar instável\n",
    "4       | Fácil de construir                  | Construção complicada\n",
    "5       | É barato                            | É caro\n",
    "6       | Tem largura de banda pequena        | Tem grande largura de banda\n",
    "7       | É impreciso                         | É preciso\n",
    "8       | Pouca manutenção                    | Sujeito a mais manutenção\n",
    "9       | Não é confortável                   | Ajustes automáticos\n",
    "10      | Exemplos: secador de mãos, máquina de chá | Exemplos: Estabilizador de Tensão, Transpiração humana"
   ]
  },
  {
   "cell_type": "markdown",
   "metadata": {},
   "source": [
    "## Sistema de Controle Realimentado (Malha Fechada)\n",
    "\n",
    "Um *feedback* é uma técnica comum e poderosa no projeto de sistemas de controle. O laço de realimentação (*feedback*) é a ferramenta que leva em consideração a saída do sistema e permite que o sistema ajuste seu desempenho para atender a um resultado desejado.\n",
    "\n",
    "Em qualquer sistema de controle, a saída é afetada devido à mudança nas condições ambientais ou qualquer tipo de distúrbio. Portanto, um sinal é retirado da saída e realimentado até a entrada. Este sinal é comparado com uma entrada de referência e um **sinal erro** é gerado. Este sinal de erro é aplicado ao controlador e a saída é corrigida para acompanhar a entrada de referência. A figura abaixo mostra o diagrama de blocos de um sistema realimentado.\n",
    "\n",
    "<img src=\"img/malha_fechada2.png\" height=400 width=650>"
   ]
  },
  {
   "cell_type": "markdown",
   "metadata": {},
   "source": [
    "Quando o sinal de realimentação é positivo, o sistema é chamado de **Sistema de Realimentação Positiva**. Para o sistema de *feedback* positiva, o sinal de erro é a adição do sinal da entrada de referência ao sinal de *feedback*. Quando o sinal de *feedback* é negativo, o sistema é chamado de **Sistema de Realimentação Negativa**. Para o sistema de *feedback* negativa, o sinal de erro é dado pela diferença do sinal de entrada de referência e o sinal de *feedback*.\n",
    "\n",
    "## Efeito da Realimentação (*Feedback*)\n",
    "\n",
    "Para a figura seguinte, que representa o sistema de feedback, considere:\n",
    "\n",
    "- R: sinal de entrada (Referência)  \n",
    "- E: sinal de erro  \n",
    "- G: ganho do caminho direto\n",
    "- H: realimentação (*feedback*)\n",
    "- C: sinal de saída\n",
    "- B: sinal de *feedback*\n",
    "\n",
    "<img src=\"img/malha_fechada3.png\" height=300 width=500>"
   ]
  },
  {
   "cell_type": "markdown",
   "metadata": {},
   "source": [
    "Fonte: https://www.electrical4u.com/control-system-closed-loop-open-loop-control-system/"
   ]
  }
 ],
 "metadata": {
  "kernelspec": {
   "display_name": "Python 3",
   "language": "python",
   "name": "python3"
  },
  "language_info": {
   "codemirror_mode": {
    "name": "ipython",
    "version": 3
   },
   "file_extension": ".py",
   "mimetype": "text/x-python",
   "name": "python",
   "nbconvert_exporter": "python",
   "pygments_lexer": "ipython3",
   "version": "3.8.5"
  }
 },
 "nbformat": 4,
 "nbformat_minor": 4
}
